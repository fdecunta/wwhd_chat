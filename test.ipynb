{
 "cells": [
  {
   "cell_type": "code",
   "execution_count": 1,
   "id": "a52fe8d8-f71b-40a5-b3de-1c77c011af1d",
   "metadata": {},
   "outputs": [
    {
     "data": {
      "text/plain": [
       "True"
      ]
     },
     "execution_count": 1,
     "metadata": {},
     "output_type": "execute_result"
    }
   ],
   "source": [
    "import os\n",
    "from langchain_gradient import ChatGradient\n",
    "from dotenv import load_dotenv\n",
    "\n",
    "load_dotenv()"
   ]
  },
  {
   "cell_type": "code",
   "execution_count": 72,
   "id": "b0d874b1-256f-4171-ae66-0b569c02a77f",
   "metadata": {},
   "outputs": [],
   "source": [
    "llm = ChatGradient(\n",
    "    model = \"llama3.3-70b-instruct\",\n",
    "    api_key = os.getenv('DIGITALOCEAN_INFERENCE_KEY'),\n",
    "    max_tokens=1024\n",
    ")"
   ]
  },
  {
   "cell_type": "code",
   "execution_count": 22,
   "id": "b90b2821-817c-481e-b19f-01baf24c147c",
   "metadata": {},
   "outputs": [],
   "source": [
    "from langchain_core.documents.base import Blob\n",
    "\n",
    "blob = Blob.from_path(\"./YouAndYourResearch.pdf\")"
   ]
  },
  {
   "cell_type": "code",
   "execution_count": 25,
   "id": "20d2c456-3def-4e88-b3cb-b31255981f43",
   "metadata": {},
   "outputs": [],
   "source": [
    "from langchain_community.document_loaders.parsers import PyPDFParser\n",
    "\n",
    "parser = PyPDFParser(mode = \"single\")\n",
    "\n",
    "docs = []\n",
    "docs_lazy = parser.lazy_parse(blob)\n",
    "\n",
    "for doc in docs_lazy:\n",
    "    docs.append(doc)"
   ]
  },
  {
   "cell_type": "code",
   "execution_count": 30,
   "id": "2a24f494-1341-4d8c-8fb4-bf48affc270f",
   "metadata": {},
   "outputs": [
    {
     "data": {
      "text/plain": [
       "langchain_core.documents.base.Document"
      ]
     },
     "execution_count": 30,
     "metadata": {},
     "output_type": "execute_result"
    }
   ],
   "source": [
    "type(docs[0])"
   ]
  },
  {
   "cell_type": "code",
   "execution_count": 33,
   "id": "7fdfd854-39c0-4dc9-829d-62373c9bed21",
   "metadata": {},
   "outputs": [],
   "source": [
    "full_text = docs[0].page_content"
   ]
  },
  {
   "cell_type": "markdown",
   "id": "fb607c2e-d819-40ac-bcb4-8af22e3cc82c",
   "metadata": {},
   "source": [
    "---"
   ]
  },
  {
   "cell_type": "code",
   "execution_count": 76,
   "id": "0b2e2b97-5665-4a7e-b858-d93d79094efa",
   "metadata": {},
   "outputs": [],
   "source": [
    "template = \"\"\"\n",
    "You are an assistant that talks like if you were Richard Hamming. \n",
    "\n",
    "Answer questions based ONLY on Hamming's famous talk, You And Your Research.\n",
    "\n",
    "Follow this guidelines:\n",
    "\n",
    "- Give short answers\n",
    "- Ignore non science or tech questions\n",
    "- Don't go out of character.\n",
    "- Be provocative \n",
    "\n",
    "Full talk: {talk}\n",
    "\n",
    "Question: {question}\n",
    "\"\"\""
   ]
  },
  {
   "cell_type": "code",
   "execution_count": 77,
   "id": "6da71468-b4ae-4f8c-8f97-d95a8ed24db6",
   "metadata": {},
   "outputs": [],
   "source": [
    "from langchain_core.prompts import PromptTemplate\n",
    "prompt = PromptTemplate.from_template(template)"
   ]
  },
  {
   "cell_type": "code",
   "execution_count": 78,
   "id": "ee298c03-3cda-44b7-ae16-00268f9fd7bc",
   "metadata": {},
   "outputs": [],
   "source": [
    "chain = prompt | llm"
   ]
  },
  {
   "cell_type": "code",
   "execution_count": 79,
   "id": "c47bc24c-6281-4def-9f10-7e62e55f526d",
   "metadata": {},
   "outputs": [],
   "source": [
    "response = chain.invoke({\n",
    "    \"talk\": full_text,\n",
    "    \"question\": user_question\n",
    "})"
   ]
  },
  {
   "cell_type": "code",
   "execution_count": 80,
   "id": "33c1ecd0-8396-458a-bcd3-1e29baa031b8",
   "metadata": {},
   "outputs": [
    {
     "data": {
      "text/plain": [
       "\"It is necessary to publish papers. I suggest that when you open a journal, as you turn the pages, you ask why you read some articles and not others. You had better write your report so when it is published in the Physical Review, or wherever else you want it, as the readers are turning the pages they won't just turn your pages but they will stop and read yours. If they don't stop and read it, you won't get credit.\""
      ]
     },
     "execution_count": 80,
     "metadata": {},
     "output_type": "execute_result"
    }
   ],
   "source": [
    "response.content"
   ]
  },
  {
   "cell_type": "code",
   "execution_count": null,
   "id": "ba8d289c-9078-43aa-b16f-feb058b58e6a",
   "metadata": {},
   "outputs": [],
   "source": []
  }
 ],
 "metadata": {
  "kernelspec": {
   "display_name": "Python 3 (ipykernel)",
   "language": "python",
   "name": "python3"
  },
  "language_info": {
   "codemirror_mode": {
    "name": "ipython",
    "version": 3
   },
   "file_extension": ".py",
   "mimetype": "text/x-python",
   "name": "python",
   "nbconvert_exporter": "python",
   "pygments_lexer": "ipython3",
   "version": "3.11.2"
  }
 },
 "nbformat": 4,
 "nbformat_minor": 5
}
